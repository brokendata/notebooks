{
 "metadata": {
  "name": "",
  "signature": "sha256:0e69acca90d88ca7a8a45a576bb793c8919a28db5a4e647ff76fdc0f29274fba"
 },
 "nbformat": 3,
 "nbformat_minor": 0,
 "worksheets": [
  {
   "cells": [
    {
     "cell_type": "code",
     "collapsed": false,
     "input": [],
     "language": "python",
     "metadata": {},
     "outputs": []
    },
    {
     "cell_type": "code",
     "collapsed": false,
     "input": [
      "%%writefile runner.py\n",
      "import sys\n",
      "import time\n",
      "import socket\n",
      "\n",
      "if __name__ == \"__main__\":\n",
      "  if len(sys.argv) < 4:\n",
      "    print >> sys.stderr, \"Usage: streamtest <host> <port> <lines-per-second> <files>\"\n",
      "    exit(-1)\n",
      "\n",
      "  host = sys.argv[1]\n",
      "  port = int(sys.argv[2])\n",
      "  sleeptime = 1/float(sys.argv[3])\n",
      "  filelist = sys.argv[4:]\n",
      "  \n",
      "  serversocket = socket.socket(socket.AF_INET, socket.SOCK_STREAM)\n",
      "  serversocket.bind((host,port))\n",
      "  serversocket.listen(1)\n",
      "\n",
      "  while(1):\n",
      "    print \"Waiting for connection on\",host,\":\",port\n",
      "    (clientsocket,address) = serversocket.accept()\n",
      "    print \"Connection from\",address\n",
      "    for filename in filelist: \n",
      "      print \"Sending\",filename\n",
      "      for line in open(filename): \n",
      "        print line\n",
      "        clientsocket.send(line)\n",
      "        time.sleep(sleeptime)\n"
     ],
     "language": "python",
     "metadata": {},
     "outputs": [
      {
       "output_type": "stream",
       "stream": "stdout",
       "text": [
        "Overwriting runner.py\n"
       ]
      }
     ],
     "prompt_number": 2
    },
    {
     "cell_type": "markdown",
     "metadata": {},
     "source": [
      "%run runner.py localhost 1234 50 #some directory to stream"
     ]
    },
    {
     "cell_type": "code",
     "collapsed": false,
     "input": [
      "pwd"
     ],
     "language": "python",
     "metadata": {},
     "outputs": [
      {
       "metadata": {},
       "output_type": "pyout",
       "prompt_number": 4,
       "text": [
        "u'C:\\\\Users\\\\ryan'"
       ]
      }
     ],
     "prompt_number": 4
    },
    {
     "cell_type": "code",
     "collapsed": false,
     "input": [],
     "language": "python",
     "metadata": {},
     "outputs": []
    }
   ],
   "metadata": {}
  }
 ]
}