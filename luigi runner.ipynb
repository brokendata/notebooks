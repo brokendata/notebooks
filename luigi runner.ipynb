{
 "metadata": {
  "name": "",
  "signature": "sha256:0caff2c08c52d0963bc7885c866bf88d5e49e1a529a3a519548efbb5a8c06899"
 },
 "nbformat": 3,
 "nbformat_minor": 0,
 "worksheets": [
  {
   "cells": [
    {
     "cell_type": "markdown",
     "metadata": {},
     "source": [
      "###Testing Simple Data Pipelines with Luigi###\n",
      "\n",
      "_Luigi's Dynamic Acyclic Graphs can be composed staticily by hard coding in the dependancies, however they can also be generated dynamically. Individual Tasks can be defined in their own classess and the instantiated in a driver script, allowing for a high \n",
      "level of modularity and code reusability_\n",
      "\n"
     ]
    },
    {
     "cell_type": "code",
     "collapsed": false,
     "input": [
      "import pandas as pd \n",
      "#this data is required in the working directory \n",
      "\n",
      "df = pd.read_csv(\"http://ftp.ics.uci.edu/pub/machine-learning-databases/iris/iris.data\", header=None) \n",
      "df = df.ix[:149,:]\n",
      "df.to_csv(\"iris.csv\", header=None)"
     ],
     "language": "python",
     "metadata": {},
     "outputs": [],
     "prompt_number": 21
    },
    {
     "cell_type": "markdown",
     "metadata": {},
     "source": [
      "###Static Luigi Pipeline###"
     ]
    },
    {
     "cell_type": "markdown",
     "metadata": {},
     "source": [
      "_A simple data pipline impemented in luigi, in which the dependancies for the tasks have been hardcoded._\n",
      "\n",
      "_This job will read data from an external datasource not managed by luigi (a hypothentical file drop from external ETL) then >> perform a simple aggregation with pandas >> then a scatter plot of PCA_\n",
      "\n",
      "_This version creates a python script that could possibly be scheduled via cron_ "
     ]
    },
    {
     "cell_type": "code",
     "collapsed": false,
     "input": [
      "%%writefile static_iris.py\n",
      "import luigi \n",
      "import pandas as pd\n",
      "import numpy as np \n",
      "from sklearn import decomposition\n",
      "from matplotlib import pyplot as plt\n",
      "\n",
      "INPUT_DIR = './input'\n",
      "OUTPUT_DIR = './output' \n",
      "\n",
      "\n",
      "class InputText(luigi.ExternalTask): \n",
      "    \n",
      "    def output(self):\n",
      "        return luigi.LocalTarget('%s/iris.csv' % INPUT_DIR)\n",
      "\n",
      "\n",
      "class AggregateData(luigi.Task): \n",
      "    \n",
      "    def requires(self):                                            \n",
      "        return InputText() \n",
      "    \n",
      "    def output(self): \n",
      "        return luigi.LocalTarget('%s/iris_aggregated.csv' % OUTPUT_DIR) \n",
      "    \n",
      "    def run(self): \n",
      "        df = pd.read_csv(self.input().open('r'), header=None, sep= ',')\n",
      "        agg = df.groupby(5).sum() \n",
      "        \n",
      "        f = self.output().open('w')\n",
      "        agg.to_csv(f, sep='\\t', index=None)\n",
      "        f.close()\n",
      "        \n",
      "class PCA(luigi.Task): \n",
      "\n",
      "    def requires(self): \n",
      "        return InputText() \n",
      "    \n",
      "    def output(self): \n",
      "        return luigi.LocalTarget('%s/princomps.png' % OUTPUT_DIR)\n",
      "    \n",
      "    def run(self): \n",
      "        df = pd.read_csv(self.input().open('r'), header=None, sep=',')\n",
      "        X = df.ix[:,:4].values \n",
      "        pca = decomposition.PCA(n_components=2)\n",
      "        X_r = pca.fit(X).transform(X)\n",
      "        \n",
      "        plt.figure()\n",
      "        plt.scatter(X_r[:,0],X_r[:,1])\n",
      "        \n",
      "        f = self.output().open('w')\n",
      "        plt.savefig(f)\n",
      "        f.close()\n",
      "        \n",
      "class RunAll(luigi.Task):\n",
      "    def requires(self):\n",
      "        return [AggregateData(), PCA()]\n",
      "    \n",
      "    #We could call subprocess and work with the shell and ftp / email etc\n",
      "    \n",
      "    \n",
      "     \n",
      "if __name__ == '__main__':\n",
      "    luigi.run() \n",
      "        \n",
      "    \n",
      "        \n",
      "    "
     ],
     "language": "python",
     "metadata": {},
     "outputs": [
      {
       "output_type": "stream",
       "stream": "stdout",
       "text": [
        "Overwriting static_iris.py\n"
       ]
      }
     ],
     "prompt_number": 3
    },
    {
     "cell_type": "code",
     "collapsed": false,
     "input": [
      "%run static_iris.py RunAll --local-scheduler"
     ],
     "language": "python",
     "metadata": {},
     "outputs": [
      {
       "output_type": "stream",
       "stream": "stderr",
       "text": [
        "DEBUG: Checking if RunAll() is complete\n"
       ]
      },
      {
       "output_type": "stream",
       "stream": "stderr",
       "text": [
        "DEBUG:luigi-interface:Checking if RunAll() is complete\n"
       ]
      },
      {
       "output_type": "stream",
       "stream": "stderr",
       "text": [
        "/home/ryan/anaconda/lib/python2.7/site-packages/luigi/task.py:413: UserWarning: Task RunAll() without outputs has no custom complete() method\n",
        "  warnings.warn(\"Task %r without outputs has no custom complete() method\" % self)\n",
        "INFO: Scheduled RunAll()\n"
       ]
      },
      {
       "output_type": "stream",
       "stream": "stderr",
       "text": [
        "INFO:luigi-interface:Scheduled RunAll()\n"
       ]
      },
      {
       "output_type": "stream",
       "stream": "stderr",
       "text": [
        "DEBUG: Checking if PCA() is complete\n"
       ]
      },
      {
       "output_type": "stream",
       "stream": "stderr",
       "text": [
        "DEBUG:luigi-interface:Checking if PCA() is complete\n"
       ]
      },
      {
       "output_type": "stream",
       "stream": "stderr",
       "text": [
        "INFO: Scheduled PCA()\n"
       ]
      },
      {
       "output_type": "stream",
       "stream": "stderr",
       "text": [
        "INFO:luigi-interface:Scheduled PCA()\n"
       ]
      },
      {
       "output_type": "stream",
       "stream": "stderr",
       "text": [
        "DEBUG: Checking if InputText() is complete\n"
       ]
      },
      {
       "output_type": "stream",
       "stream": "stderr",
       "text": [
        "DEBUG:luigi-interface:Checking if InputText() is complete\n"
       ]
      },
      {
       "output_type": "stream",
       "stream": "stderr",
       "text": [
        "DEBUG: Checking if AggregateData() is complete\n"
       ]
      },
      {
       "output_type": "stream",
       "stream": "stderr",
       "text": [
        "DEBUG:luigi-interface:Checking if AggregateData() is complete\n"
       ]
      },
      {
       "output_type": "stream",
       "stream": "stderr",
       "text": [
        "INFO: Done scheduling tasks\n"
       ]
      },
      {
       "output_type": "stream",
       "stream": "stderr",
       "text": [
        "INFO:luigi-interface:Done scheduling tasks\n"
       ]
      },
      {
       "output_type": "stream",
       "stream": "stderr",
       "text": [
        "DEBUG: Asking scheduler for work...\n"
       ]
      },
      {
       "output_type": "stream",
       "stream": "stderr",
       "text": [
        "DEBUG:luigi-interface:Asking scheduler for work...\n"
       ]
      },
      {
       "output_type": "stream",
       "stream": "stderr",
       "text": [
        "DEBUG: Pending tasks: 2\n"
       ]
      },
      {
       "output_type": "stream",
       "stream": "stderr",
       "text": [
        "DEBUG:luigi-interface:Pending tasks: 2\n"
       ]
      },
      {
       "output_type": "stream",
       "stream": "stderr",
       "text": [
        "INFO: [pid 11664] Running   PCA()\n"
       ]
      },
      {
       "output_type": "stream",
       "stream": "stderr",
       "text": [
        "INFO:luigi-interface:[pid 11664] Running   PCA()\n"
       ]
      },
      {
       "output_type": "stream",
       "stream": "stderr",
       "text": [
        "INFO: [pid 11664] Done      PCA()\n"
       ]
      },
      {
       "output_type": "stream",
       "stream": "stderr",
       "text": [
        "INFO:luigi-interface:[pid 11664] Done      PCA()\n"
       ]
      },
      {
       "output_type": "stream",
       "stream": "stderr",
       "text": [
        "DEBUG: Asking scheduler for work...\n"
       ]
      },
      {
       "output_type": "stream",
       "stream": "stderr",
       "text": [
        "DEBUG:luigi-interface:Asking scheduler for work...\n"
       ]
      },
      {
       "output_type": "stream",
       "stream": "stderr",
       "text": [
        "DEBUG: Pending tasks: 1\n"
       ]
      },
      {
       "output_type": "stream",
       "stream": "stderr",
       "text": [
        "DEBUG:luigi-interface:Pending tasks: 1\n"
       ]
      },
      {
       "output_type": "stream",
       "stream": "stderr",
       "text": [
        "INFO: [pid 11664] Running   RunAll()\n"
       ]
      },
      {
       "output_type": "stream",
       "stream": "stderr",
       "text": [
        "INFO:luigi-interface:[pid 11664] Running   RunAll()\n"
       ]
      },
      {
       "output_type": "stream",
       "stream": "stderr",
       "text": [
        "INFO: [pid 11664] Done      RunAll()\n"
       ]
      },
      {
       "output_type": "stream",
       "stream": "stderr",
       "text": [
        "INFO:luigi-interface:[pid 11664] Done      RunAll()\n"
       ]
      },
      {
       "output_type": "stream",
       "stream": "stderr",
       "text": [
        "DEBUG: Asking scheduler for work...\n"
       ]
      },
      {
       "output_type": "stream",
       "stream": "stderr",
       "text": [
        "DEBUG:luigi-interface:Asking scheduler for work...\n"
       ]
      },
      {
       "output_type": "stream",
       "stream": "stderr",
       "text": [
        "INFO: Done\n"
       ]
      },
      {
       "output_type": "stream",
       "stream": "stderr",
       "text": [
        "INFO:luigi-interface:Done\n"
       ]
      },
      {
       "output_type": "stream",
       "stream": "stderr",
       "text": [
        "INFO: There are no more tasks to run at this time\n"
       ]
      },
      {
       "output_type": "stream",
       "stream": "stderr",
       "text": [
        "INFO:luigi-interface:There are no more tasks to run at this time\n"
       ]
      },
      {
       "output_type": "stream",
       "stream": "stderr",
       "text": [
        "INFO: Worker was stopped. Shutting down Keep-Alive thread\n",
        "INFO:luigi-interface:Worker was stopped. Shutting down Keep-Alive thread\n"
       ]
      }
     ],
     "prompt_number": 4
    },
    {
     "cell_type": "markdown",
     "metadata": {},
     "source": [
      "###Dynamic Luigi Pipeline###\n",
      "_Create a dynamic Pipeline. DAG dependancies are not hardcoded into the requires method, they are passed in as a parameter allowing for more modularity by jobs defiend in external classes, in a module called 'components'_\n",
      "\n",
      "\n",
      "_This code is not saved to a file but ran directly from the ipython notebook via luigi.build()_ "
     ]
    },
    {
     "cell_type": "code",
     "collapsed": false,
     "input": [
      "#hack to import module from working dir\n",
      "\n",
      "!mkdir components\n",
      "import sys\n",
      "wd = !pwd \n",
      "sys.path.append(wd[0] + '/components')\n",
      "!touch components/__init__.py\n"
     ],
     "language": "python",
     "metadata": {},
     "outputs": [],
     "prompt_number": 32
    },
    {
     "cell_type": "code",
     "collapsed": false,
     "input": [
      "%%writefile components/InputText.py \n",
      "\n",
      "import luigi \n",
      "\n",
      "class InputText(luigi.ExternalTask):\n",
      "    \n",
      "    def output(self):\n",
      "        return luigi.LocalTarget('/home/ryan/py/lugi_scripts/iris/input/iris.csv')"
     ],
     "language": "python",
     "metadata": {},
     "outputs": [
      {
       "output_type": "stream",
       "stream": "stdout",
       "text": [
        "Overwriting components/InputText.py\n"
       ]
      }
     ],
     "prompt_number": 3
    },
    {
     "cell_type": "code",
     "collapsed": false,
     "input": [
      "%%writefile components/AggregateData.py\n",
      "\n",
      "import luigi\n",
      "import pandas as pd\n",
      "\n",
      "class AggregateData(luigi.Task): \n",
      "    upstream_task = luigi.Parameter() \n",
      "    \n",
      "    def requires(self): \n",
      "        return self.upstream_task \n",
      "    \n",
      "    def output(self): \n",
      "        return luigi.LocalTarget('/home/ryan/py/lugi_scripts/iris/output/iris_aggregated.csv') \n",
      "    \n",
      "    def run(self): \n",
      "        df = pd.read_csv(self.input().open('r'), header=None, sep= ',')\n",
      "        agg = df.groupby(5).sum() \n",
      "        \n",
      "        f = self.output().open('w')\n",
      "        agg.to_csv(f, sep='\\t', index=None)\n",
      "        f.close()"
     ],
     "language": "python",
     "metadata": {},
     "outputs": [
      {
       "output_type": "stream",
       "stream": "stdout",
       "text": [
        "Overwriting components/AggregateData.py\n"
       ]
      }
     ],
     "prompt_number": 4
    },
    {
     "cell_type": "code",
     "collapsed": false,
     "input": [
      "%%writefile components/PCA.py\n",
      "\n",
      "import luigi\n",
      "import pandas as pd \n",
      "from sklearn import decomposition\n",
      "from matplotlib import pyplot as plt\n",
      "\n",
      "class PCA(luigi.Task): \n",
      "    upstream_task = luigi.Parameter()\n",
      "\n",
      "    def requires(self): \n",
      "        return self.upstream_task\n",
      "    \n",
      "    def output(self): \n",
      "        return luigi.LocalTarget('/home/ryan/py/lugi_scripts/iris/output/princomps.png')\n",
      "    \n",
      "    def run(self): \n",
      "        df = pd.read_csv(self.input().open('r'), header=None, sep=',')\n",
      "        X = df.ix[:,:4].values \n",
      "        pca = decomposition.PCA(n_components=2)\n",
      "        X_r = pca.fit(X).transform(X)\n",
      "        \n",
      "        plt.figure()\n",
      "        plt.scatter(X_r[:,0],X_r[:,1])\n",
      "        \n",
      "        f = self.output().open('w')\n",
      "        plt.savefig(f)\n",
      "        f.close()\n",
      "    "
     ],
     "language": "python",
     "metadata": {},
     "outputs": [
      {
       "output_type": "stream",
       "stream": "stdout",
       "text": [
        "Overwriting components/PCA.py\n"
       ]
      }
     ],
     "prompt_number": 5
    },
    {
     "cell_type": "code",
     "collapsed": false,
     "input": [
      "import luigi \n",
      "\n",
      "from components.InputText import InputText  \n",
      "from components.AggregateData import AggregateData \n",
      "from components.PCA import PCA \n",
      "from collections import defaultdict\n",
      "\n",
      "tasks = defaultdict(luigi.task.Register)\n",
      "\n",
      "tasks['InputText'] = InputText() \n",
      "tasks['AggregateData'] = AggregateData(upstream_task=tasks['InputText']) \n",
      "tasks['PCA'] = PCA(upstream_task=tasks['InputText'])\n",
      "\n",
      "\n",
      "tasks_to_run = [tasks['AggregateData'], tasks['PCA']] \n",
      "\n",
      "luigi.build(tasks_to_run, local_scheduler=True)"
     ],
     "language": "python",
     "metadata": {},
     "outputs": [
      {
       "output_type": "stream",
       "stream": "stderr",
       "text": [
        "DEBUG: Checking if AggregateData(upstream_task=InputText()) is complete\n"
       ]
      },
      {
       "output_type": "stream",
       "stream": "stderr",
       "text": [
        "DEBUG:luigi-interface:Checking if AggregateData(upstream_task=InputText()) is complete\n"
       ]
      },
      {
       "output_type": "stream",
       "stream": "stderr",
       "text": [
        "INFO: Scheduled AggregateData(upstream_task=InputText())\n"
       ]
      },
      {
       "output_type": "stream",
       "stream": "stderr",
       "text": [
        "INFO:luigi-interface:Scheduled AggregateData(upstream_task=InputText())\n"
       ]
      },
      {
       "output_type": "stream",
       "stream": "stderr",
       "text": [
        "DEBUG: Checking if InputText() is complete\n"
       ]
      },
      {
       "output_type": "stream",
       "stream": "stderr",
       "text": [
        "DEBUG:luigi-interface:Checking if InputText() is complete\n"
       ]
      },
      {
       "output_type": "stream",
       "stream": "stderr",
       "text": [
        "DEBUG: Checking if PCA(upstream_task=InputText()) is complete\n"
       ]
      },
      {
       "output_type": "stream",
       "stream": "stderr",
       "text": [
        "DEBUG:luigi-interface:Checking if PCA(upstream_task=InputText()) is complete\n"
       ]
      },
      {
       "output_type": "stream",
       "stream": "stderr",
       "text": [
        "INFO: Scheduled PCA(upstream_task=InputText())\n"
       ]
      },
      {
       "output_type": "stream",
       "stream": "stderr",
       "text": [
        "INFO:luigi-interface:Scheduled PCA(upstream_task=InputText())\n"
       ]
      },
      {
       "output_type": "stream",
       "stream": "stderr",
       "text": [
        "DEBUG: Checking if InputText() is complete\n"
       ]
      },
      {
       "output_type": "stream",
       "stream": "stderr",
       "text": [
        "DEBUG:luigi-interface:Checking if InputText() is complete\n"
       ]
      },
      {
       "output_type": "stream",
       "stream": "stderr",
       "text": [
        "INFO: Done scheduling tasks\n"
       ]
      },
      {
       "output_type": "stream",
       "stream": "stderr",
       "text": [
        "INFO:luigi-interface:Done scheduling tasks\n"
       ]
      },
      {
       "output_type": "stream",
       "stream": "stderr",
       "text": [
        "DEBUG: Asking scheduler for work...\n"
       ]
      },
      {
       "output_type": "stream",
       "stream": "stderr",
       "text": [
        "DEBUG:luigi-interface:Asking scheduler for work...\n"
       ]
      },
      {
       "output_type": "stream",
       "stream": "stderr",
       "text": [
        "DEBUG: Pending tasks: 2\n"
       ]
      },
      {
       "output_type": "stream",
       "stream": "stderr",
       "text": [
        "DEBUG:luigi-interface:Pending tasks: 2\n"
       ]
      },
      {
       "output_type": "stream",
       "stream": "stderr",
       "text": [
        "INFO: [pid 11713] Running   AggregateData(upstream_task=InputText())\n"
       ]
      },
      {
       "output_type": "stream",
       "stream": "stderr",
       "text": [
        "INFO:luigi-interface:[pid 11713] Running   AggregateData(upstream_task=InputText())\n"
       ]
      },
      {
       "output_type": "stream",
       "stream": "stderr",
       "text": [
        "INFO: [pid 11713] Done      AggregateData(upstream_task=InputText())\n"
       ]
      },
      {
       "output_type": "stream",
       "stream": "stderr",
       "text": [
        "INFO:luigi-interface:[pid 11713] Done      AggregateData(upstream_task=InputText())\n"
       ]
      },
      {
       "output_type": "stream",
       "stream": "stderr",
       "text": [
        "DEBUG: Asking scheduler for work...\n"
       ]
      },
      {
       "output_type": "stream",
       "stream": "stderr",
       "text": [
        "DEBUG:luigi-interface:Asking scheduler for work...\n"
       ]
      },
      {
       "output_type": "stream",
       "stream": "stderr",
       "text": [
        "DEBUG: Pending tasks: 1\n"
       ]
      },
      {
       "output_type": "stream",
       "stream": "stderr",
       "text": [
        "DEBUG:luigi-interface:Pending tasks: 1\n"
       ]
      },
      {
       "output_type": "stream",
       "stream": "stderr",
       "text": [
        "INFO: [pid 11713] Running   PCA(upstream_task=InputText())\n"
       ]
      },
      {
       "output_type": "stream",
       "stream": "stderr",
       "text": [
        "INFO:luigi-interface:[pid 11713] Running   PCA(upstream_task=InputText())\n"
       ]
      },
      {
       "output_type": "stream",
       "stream": "stderr",
       "text": [
        "INFO: [pid 11713] Done      PCA(upstream_task=InputText())\n"
       ]
      },
      {
       "output_type": "stream",
       "stream": "stderr",
       "text": [
        "INFO:luigi-interface:[pid 11713] Done      PCA(upstream_task=InputText())\n"
       ]
      },
      {
       "output_type": "stream",
       "stream": "stderr",
       "text": [
        "DEBUG: Asking scheduler for work...\n"
       ]
      },
      {
       "output_type": "stream",
       "stream": "stderr",
       "text": [
        "DEBUG:luigi-interface:Asking scheduler for work...\n"
       ]
      },
      {
       "output_type": "stream",
       "stream": "stderr",
       "text": [
        "INFO: Done\n"
       ]
      },
      {
       "output_type": "stream",
       "stream": "stderr",
       "text": [
        "INFO:luigi-interface:Done\n"
       ]
      },
      {
       "output_type": "stream",
       "stream": "stderr",
       "text": [
        "INFO: There are no more tasks to run at this time\n"
       ]
      },
      {
       "output_type": "stream",
       "stream": "stderr",
       "text": [
        "INFO:luigi-interface:There are no more tasks to run at this time\n"
       ]
      },
      {
       "output_type": "stream",
       "stream": "stderr",
       "text": [
        "INFO: Worker was stopped. Shutting down Keep-Alive thread\n",
        "INFO:luigi-interface:Worker was stopped. Shutting down Keep-Alive thread\n"
       ]
      }
     ],
     "prompt_number": 14
    }
   ],
   "metadata": {}
  }
 ]
}